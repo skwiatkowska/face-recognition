{
 "cells": [
  {
   "cell_type": "markdown",
   "metadata": {},
   "source": [
    "# Face recognition using Convolutional Neural Network #"
   ]
  },
  {
   "cell_type": "markdown",
   "metadata": {},
   "source": [
    "### Retrieving the data ###"
   ]
  },
  {
   "cell_type": "code",
   "execution_count": 4,
   "metadata": {},
   "outputs": [],
   "source": [
    "import os\n",
    "\n",
    "#main directory with data - containing subfolders whose names means the person's name\n",
    "data_dir = 'data'\n",
    "persons = os.listdir(data_dir) #get all subdirectories - one folder means one person\n",
    "\n",
    "#create list of numbers from 0 to label each person\n",
    "labels = []\n",
    "for i in range(0, len(persons)):\n",
    "    labels.append(i)\n",
    "\n",
    "#create a person-label dict to retrieve the name from the number at the end\n",
    "label_dict = dict(zip(persons, labels))\n",
    "\n",
    "class_number = len(persons)\n"
   ]
  },
  {
   "cell_type": "markdown",
   "metadata": {},
   "source": [
    "### Data preprocessing - converting into gray scale and resizing"
   ]
  },
  {
   "cell_type": "code",
   "execution_count": 11,
   "metadata": {},
   "outputs": [],
   "source": [
    "import cv2 #OpenCV \n",
    "\n",
    "haarcascade_absolute_path = os.path.abspath(\"haarcascade/haarcascade_frontalface_default.xml\")\n",
    "#load Haar Cascade Classifiers to detect a face in the picture\n",
    "face_cascade = cv2.CascadeClassifier(haarcascade_absolute_path) \n"
   ]
  },
  {
   "cell_type": "code",
   "execution_count": 12,
   "metadata": {},
   "outputs": [],
   "source": [
    "import numpy as np\n",
    "import math\n",
    " \n",
    "def gamma_correction(gray_img):\n",
    "    # compute gamma = log(mid*255)/log(mean)\n",
    "    mid = 0.5\n",
    "    mean = np.mean(gray_img)\n",
    "    gamma = math.log(mid*255)/math.log(mean)\n",
    "\n",
    "    # do gamma correction\n",
    "    img_gamma1 = np.power(gray_img, gamma).clip(0,255).astype(np.uint8)\n",
    "\n",
    "    return img_gamma1"
   ]
  },
  {
   "cell_type": "code",
   "execution_count": 16,
   "metadata": {},
   "outputs": [],
   "source": [
    "import imutils\n",
    "\n",
    "image_size = 96 #the size of photo after resizing\n",
    "X_1 = [] #the list for resized images - both train and test data for the neural network\n",
    "y_1 = [] #the list for labels for both train and test data\n",
    "\n",
    "\n",
    "\n",
    "def preprocess_data():\n",
    "    for person in persons: #for each person (each subfolder)\n",
    "        subfolder_path = os.path.join(data_dir, person)\n",
    "        files = os.listdir(subfolder_path) #names of the files in one subfolder\n",
    "\n",
    "        for file in files:\n",
    "            image_path = os.path.join(subfolder_path, file) #get an image path\n",
    "\n",
    "            if image_path.endswith(\".jpg\") or image_path.endswith(\".png\"):\n",
    "                image = cv2.imread(image_path)\n",
    "                image = cv2.cvtColor(image, cv2.COLOR_BGR2GRAY) #change a color photo to gray\n",
    "                image = gamma_correction(image) # gamma correction\n",
    "                \n",
    "                for i in range(-10,15,2):\n",
    "                    image = imutils.rotate(image, angle=i)\n",
    "                    detected_face = face_cascade.detectMultiScale(image, 1.3, 5) #detect a face\n",
    "                    if len(detected_face) == 0:\n",
    "                        os.remove(image_path) #delete a photo if no face was detected\n",
    "\n",
    "                    for x, y, w, h in detected_face:\n",
    "                        resized_image = cv2.resize((image[y : y+h, x : x+w]), (image_size, image_size))\n",
    "\n",
    "                    resized_image = resized_image.astype(\"float32\")\n",
    "                    resized_image /= 255\n",
    "\n",
    "                    X_1.append(resized_image) #add resized gray image to x_train list\n",
    "                    y_1.append(label_dict[person]) #add the person's label (number) to y_train list\n",
    "            \n"
   ]
  },
  {
   "cell_type": "code",
   "execution_count": 17,
   "metadata": {},
   "outputs": [],
   "source": [
    "preprocess_data()"
   ]
  },
  {
   "cell_type": "code",
   "execution_count": 18,
   "metadata": {},
   "outputs": [],
   "source": [
    "from sklearn.model_selection import train_test_split\n",
    "\n",
    "\n",
    "#split the data into training, testing and validation sets\n",
    "x_train, x_test, y_train, y_test = train_test_split(\n",
    "    X_1, y_1, test_size=0.2, random_state=42, shuffle=True)\n",
    "\n",
    "x_train, x_val, y_train, y_val = train_test_split(\n",
    "    x_train, y_train, test_size=0.2, random_state=42, shuffle=True)"
   ]
  },
  {
   "cell_type": "code",
   "execution_count": 21,
   "metadata": {},
   "outputs": [],
   "source": [
    "dataset_size = len(x_train)"
   ]
  },
  {
   "cell_type": "code",
   "execution_count": 22,
   "metadata": {},
   "outputs": [
    {
     "data": {
      "text/plain": [
       "array([[1.        , 1.        , 1.        , ..., 1.        , 1.        ,\n",
       "        1.        ],\n",
       "       [1.        , 1.        , 1.        , ..., 1.        , 1.        ,\n",
       "        1.        ],\n",
       "       [1.        , 1.        , 1.        , ..., 1.        , 1.        ,\n",
       "        1.        ],\n",
       "       ...,\n",
       "       [0.12156863, 0.12156863, 0.16078432, ..., 0.10196079, 0.10196079,\n",
       "        0.09803922],\n",
       "       [0.11372549, 0.13333334, 0.17254902, ..., 0.10980392, 0.09019608,\n",
       "        0.09411765],\n",
       "       [0.11372549, 0.14901961, 0.15294118, ..., 0.11764706, 0.10980392,\n",
       "        0.11372549]], dtype=float32)"
      ]
     },
     "execution_count": 22,
     "metadata": {},
     "output_type": "execute_result"
    }
   ],
   "source": [
    "x_train[0] #print the first image to check if it was correctly loaded"
   ]
  },
  {
   "cell_type": "code",
   "execution_count": 23,
   "metadata": {},
   "outputs": [
    {
     "data": {
      "text/plain": [
       "[1, 2, 0, 0, 3, 0, 1, 3, 2, 0]"
      ]
     },
     "execution_count": 23,
     "metadata": {},
     "output_type": "execute_result"
    }
   ],
   "source": [
    "y_train[0:10] #print first 10 labels to check if the list was correctly populated"
   ]
  },
  {
   "cell_type": "code",
   "execution_count": null,
   "metadata": {},
   "outputs": [],
   "source": [
    "import matplotlib.pyplot as plt\n",
    "\n",
    "#plot an image\n",
    "def showOpencvImage(image, isGray=False):\n",
    "    fig = plt.figure(figsize=(6, 6))\n",
    "    plt.imshow(image, cmap='gray')\n",
    "    plt.show()\n",
    "    \n",
    "showOpencvImage(x_train[0])"
   ]
  },
  {
   "cell_type": "code",
   "execution_count": 25,
   "metadata": {},
   "outputs": [],
   "source": [
    "#expand the shape of an array - insert a new axis - required for Conv2D layer in CNN\n",
    "x_train = np.expand_dims(x_train, 3)\n",
    "x_test = np.expand_dims(x_test, 3)\n",
    "x_val = np.expand_dims(x_val, 3)"
   ]
  },
  {
   "cell_type": "code",
   "execution_count": 26,
   "metadata": {},
   "outputs": [
    {
     "data": {
      "text/plain": [
       "(511, 96, 96, 1)"
      ]
     },
     "execution_count": 26,
     "metadata": {},
     "output_type": "execute_result"
    }
   ],
   "source": [
    "#check the shape after change\n",
    "x_train.shape"
   ]
  },
  {
   "cell_type": "code",
   "execution_count": 27,
   "metadata": {},
   "outputs": [
    {
     "name": "stdout",
     "output_type": "stream",
     "text": [
      "y_train before encoding: \n",
      " [1, 2, 0, 0, 3, 0, 1, 3, 2, 0, 3, 2, 2, 1, 0, 1, 3, 0, 2, 3, 1, 0, 0, 0, 1, 1, 0, 1, 1, 0, 3, 2, 0, 0, 3, 1, 1, 2, 2, 2, 0, 1, 1, 3, 0, 2, 1, 0, 3, 1, 1, 3, 2, 0, 3, 2, 0, 1, 0, 1, 3, 0, 1, 3, 3, 3, 3, 3, 2, 3, 3, 1, 2, 3, 1, 3, 1, 0, 3, 2, 0, 1, 3, 2, 1, 0, 0, 2, 3, 1, 2, 1, 3, 3, 0, 3, 3, 0, 0, 0, 2, 1, 2, 1, 3, 2, 0, 3, 0, 3, 2, 3, 0, 2, 3, 3, 0, 0, 0, 1, 0, 1, 0, 1, 3, 3, 2, 1, 3, 0, 2, 0, 2, 3, 1, 3, 2, 1, 1, 0, 2, 2, 1, 1, 2, 1, 2, 0, 3, 2, 2, 2, 2, 0, 0, 0, 1, 2, 1, 0, 0, 2, 1, 2, 3, 0, 0, 1, 2, 3, 0, 3, 1, 1, 3, 2, 2, 3, 0, 2, 3, 2, 1, 2, 1, 2, 0, 0, 0, 1, 0, 0, 1, 2, 3, 0, 1, 1, 0, 1, 1, 0, 0, 3, 1, 1, 1, 2, 2, 3, 0, 3, 0, 0, 2, 1, 1, 1, 0, 3, 0, 3, 0, 2, 0, 3, 0, 2, 3, 3, 2, 1, 1, 0, 3, 3, 1, 1, 1, 3, 3, 2, 1, 2, 2, 2, 3, 2, 2, 0, 1, 2, 2, 3, 1, 0, 3, 2, 2, 3, 3, 1, 2, 3, 0, 0, 2, 1, 0, 1, 1, 0, 0, 1, 1, 3, 3, 3, 2, 0, 0, 2, 2, 2, 3, 2, 0, 0, 0, 2, 2, 2, 2, 0, 3, 2, 2, 1, 3, 3, 2, 1, 2, 3, 3, 1, 3, 0, 1, 3, 2, 0, 1, 1, 3, 2, 1, 0, 2, 1, 3, 3, 3, 0, 1, 1, 0, 0, 3, 1, 3, 3, 0, 3, 1, 3, 0, 2, 0, 2, 3, 2, 0, 3, 0, 0, 2, 3, 1, 1, 0, 2, 2, 2, 0, 0, 2, 0, 2, 1, 0, 2, 1, 3, 0, 0, 2, 1, 0, 3, 3, 2, 2, 2, 1, 3, 1, 1, 1, 1, 1, 3, 2, 0, 0, 2, 1, 3, 0, 1, 2, 2, 3, 1, 0, 3, 1, 1, 0, 3, 2, 3, 1, 0, 1, 2, 2, 3, 1, 3, 2, 3, 3, 3, 1, 3, 2, 2, 0, 3, 0, 3, 1, 0, 0, 0, 0, 1, 2, 1, 0, 0, 1, 3, 0, 3, 0, 2, 1, 2, 1, 2, 1, 1, 2, 0, 2, 1, 0, 2, 3, 2, 2, 2, 1, 2, 1, 0, 3, 3, 3, 2, 2, 3, 1, 1, 2, 3, 1, 1, 3, 3, 0, 2, 2, 2, 2, 0, 3, 1, 1, 3, 0, 0, 2, 0, 3, 3, 1, 1, 0, 3, 2, 2, 1, 2, 1, 0, 1, 1, 0, 0, 3, 1, 1, 3, 1, 1, 3, 1, 3]\n",
      "\n",
      "y_train after encoding: \n",
      " [[0. 1. 0. 0.]\n",
      " [0. 0. 1. 0.]\n",
      " [1. 0. 0. 0.]\n",
      " ...\n",
      " [0. 0. 0. 1.]\n",
      " [0. 1. 0. 0.]\n",
      " [0. 0. 0. 1.]]\n"
     ]
    }
   ],
   "source": [
    "from keras.utils import to_categorical\n",
    "\n",
    "print('y_train before encoding: \\n', y_train)\n",
    "\n",
    "#converts a vector to binary class matrix - one hot encoding\n",
    "encoded_y_train = to_categorical(y_train)\n",
    "encoded_y_test = to_categorical(y_test)\n",
    "encoded_y_val = to_categorical(y_val)\n",
    "\n",
    "print('\\ny_train after encoding: \\n', encoded_y_train)"
   ]
  },
  {
   "cell_type": "code",
   "execution_count": 28,
   "metadata": {},
   "outputs": [
    {
     "data": {
      "text/plain": [
       "(511, 4)"
      ]
     },
     "execution_count": 28,
     "metadata": {},
     "output_type": "execute_result"
    }
   ],
   "source": [
    "encoded_y_train.shape"
   ]
  },
  {
   "cell_type": "markdown",
   "metadata": {},
   "source": [
    "Data preprocessing finished"
   ]
  },
  {
   "cell_type": "markdown",
   "metadata": {},
   "source": [
    "### Convolutional Neural Network Model ###"
   ]
  },
  {
   "cell_type": "code",
   "execution_count": 1,
   "metadata": {},
   "outputs": [
    {
     "ename": "NameError",
     "evalue": "name 'image_size' is not defined",
     "output_type": "error",
     "traceback": [
      "\u001b[1;31m---------------------------------------------------------------------------\u001b[0m",
      "\u001b[1;31mNameError\u001b[0m                                 Traceback (most recent call last)",
      "\u001b[1;32m<ipython-input-1-640385f25ba6>\u001b[0m in \u001b[0;36m<module>\u001b[1;34m\u001b[0m\n\u001b[0;32m      9\u001b[0m \u001b[1;31m#convolution layer with (image_size, image_size, 1) input_shape\u001b[0m\u001b[1;33m\u001b[0m\u001b[1;33m\u001b[0m\u001b[1;33m\u001b[0m\u001b[0m\n\u001b[0;32m     10\u001b[0m \u001b[1;31m#because we have only 1 matrix of size (image_size x image_size) - the image is gray\u001b[0m\u001b[1;33m\u001b[0m\u001b[1;33m\u001b[0m\u001b[1;33m\u001b[0m\u001b[0m\n\u001b[1;32m---> 11\u001b[1;33m \u001b[0mclassifier\u001b[0m\u001b[1;33m.\u001b[0m\u001b[0madd\u001b[0m\u001b[1;33m(\u001b[0m\u001b[0mConv2D\u001b[0m\u001b[1;33m(\u001b[0m\u001b[1;36m32\u001b[0m\u001b[1;33m,\u001b[0m \u001b[0mkernel_size\u001b[0m\u001b[1;33m=\u001b[0m\u001b[1;33m(\u001b[0m\u001b[1;36m5\u001b[0m\u001b[1;33m,\u001b[0m \u001b[1;36m5\u001b[0m\u001b[1;33m)\u001b[0m\u001b[1;33m,\u001b[0m \u001b[0mstrides\u001b[0m\u001b[1;33m=\u001b[0m\u001b[1;33m(\u001b[0m\u001b[1;36m1\u001b[0m\u001b[1;33m,\u001b[0m \u001b[1;36m1\u001b[0m\u001b[1;33m)\u001b[0m\u001b[1;33m,\u001b[0m \u001b[0minput_shape\u001b[0m\u001b[1;33m=\u001b[0m\u001b[1;33m(\u001b[0m\u001b[0mimage_size\u001b[0m\u001b[1;33m,\u001b[0m \u001b[0mimage_size\u001b[0m\u001b[1;33m,\u001b[0m \u001b[1;36m1\u001b[0m\u001b[1;33m)\u001b[0m\u001b[1;33m,\u001b[0m \u001b[0mactivation\u001b[0m\u001b[1;33m=\u001b[0m\u001b[1;34m'relu'\u001b[0m\u001b[1;33m)\u001b[0m\u001b[1;33m)\u001b[0m\u001b[1;33m\u001b[0m\u001b[1;33m\u001b[0m\u001b[0m\n\u001b[0m\u001b[0;32m     12\u001b[0m \u001b[1;33m\u001b[0m\u001b[0m\n\u001b[0;32m     13\u001b[0m \u001b[1;31m#max pooling\u001b[0m\u001b[1;33m\u001b[0m\u001b[1;33m\u001b[0m\u001b[1;33m\u001b[0m\u001b[0m\n",
      "\u001b[1;31mNameError\u001b[0m: name 'image_size' is not defined"
     ]
    }
   ],
   "source": [
    "#source for CNN model: https://thinkingneuron.com/face-recognition-using-deep-learning-cnn-in-python/\n",
    "\n",
    "from keras.models import Sequential\n",
    "from keras.layers.core import Dense, Flatten\n",
    "from keras.layers.convolutional import Conv2D, MaxPooling2D\n",
    "\n",
    "classifier = Sequential()\n",
    " \n",
    "#convolution layer with (image_size, image_size, 1) input_shape \n",
    "#because we have only 1 matrix of size (image_size x image_size) - the image is gray\n",
    "classifier.add(Conv2D(32, kernel_size=(5, 5), strides=(1, 1), input_shape=(image_size, image_size, 1), activation='relu'))\n",
    " \n",
    "#max pooling\n",
    "classifier.add(MaxPooling2D(pool_size=(2, 2)))\n",
    " \n",
    "#additional convolution\n",
    "classifier.add(Conv2D(32, kernel_size=(5, 5), activation='relu'))\n",
    " \n",
    "classifier.add(MaxPooling2D(pool_size=(2, 2)))\n",
    " \n",
    "#flattening layer\n",
    "classifier.add(Flatten())\n",
    "\n",
    "#fully connection\n",
    "classifier.add(Dense(16, activation='relu'))\n",
    "\n",
    "#final layer with class_number size - the number corresponds to the number of different labels that we have\n",
    "classifier.add(Dense(class_number, activation='softmax'))\n",
    " \n",
    "#compilation\n",
    "classifier.compile(loss='categorical_crossentropy', optimizer = 'adam', metrics = [\"accuracy\"])\n",
    " \n"
   ]
  },
  {
   "cell_type": "code",
   "execution_count": 30,
   "metadata": {},
   "outputs": [
    {
     "name": "stdout",
     "output_type": "stream",
     "text": [
      "Model: \"sequential\"\n",
      "_________________________________________________________________\n",
      "Layer (type)                 Output Shape              Param #   \n",
      "=================================================================\n",
      "conv2d (Conv2D)              (None, 92, 92, 32)        832       \n",
      "_________________________________________________________________\n",
      "max_pooling2d (MaxPooling2D) (None, 46, 46, 32)        0         \n",
      "_________________________________________________________________\n",
      "conv2d_1 (Conv2D)            (None, 42, 42, 32)        25632     \n",
      "_________________________________________________________________\n",
      "max_pooling2d_1 (MaxPooling2 (None, 21, 21, 32)        0         \n",
      "_________________________________________________________________\n",
      "flatten (Flatten)            (None, 14112)             0         \n",
      "_________________________________________________________________\n",
      "dense (Dense)                (None, 16)                225808    \n",
      "_________________________________________________________________\n",
      "dense_1 (Dense)              (None, 4)                 68        \n",
      "=================================================================\n",
      "Total params: 252,340\n",
      "Trainable params: 252,340\n",
      "Non-trainable params: 0\n",
      "_________________________________________________________________\n"
     ]
    }
   ],
   "source": [
    "#model summary\n",
    "classifier.summary()"
   ]
  },
  {
   "cell_type": "code",
   "execution_count": 31,
   "metadata": {},
   "outputs": [
    {
     "name": "stdout",
     "output_type": "stream",
     "text": [
      "Epoch 1/10\n",
      "16/16 [==============================] - 15s 816ms/step - loss: 0.9385 - accuracy: 0.6366 - val_loss: 0.0106 - val_accuracy: 1.0000\n",
      "Epoch 2/10\n",
      "16/16 [==============================] - 10s 603ms/step - loss: 0.0025 - accuracy: 1.0000 - val_loss: 1.0580e-05 - val_accuracy: 1.0000\n",
      "Epoch 3/10\n",
      "16/16 [==============================] - 10s 600ms/step - loss: 5.9960e-06 - accuracy: 1.0000 - val_loss: 8.1118e-07 - val_accuracy: 1.0000\n",
      "Epoch 4/10\n",
      "16/16 [==============================] - 10s 628ms/step - loss: 2.2025e-06 - accuracy: 1.0000 - val_loss: 5.4389e-07 - val_accuracy: 1.0000\n",
      "Epoch 5/10\n",
      "16/16 [==============================] - 11s 683ms/step - loss: 2.0294e-06 - accuracy: 1.0000 - val_loss: 4.7218e-07 - val_accuracy: 1.0000\n",
      "Epoch 6/10\n",
      "16/16 [==============================] - 10s 622ms/step - loss: 1.4380e-06 - accuracy: 1.0000 - val_loss: 4.3958e-07 - val_accuracy: 1.0000\n",
      "Epoch 7/10\n",
      "16/16 [==============================] - 11s 667ms/step - loss: 7.3902e-07 - accuracy: 1.0000 - val_loss: 4.1816e-07 - val_accuracy: 1.0000\n",
      "Epoch 8/10\n",
      "16/16 [==============================] - 10s 650ms/step - loss: 8.6223e-07 - accuracy: 1.0000 - val_loss: 4.1071e-07 - val_accuracy: 1.0000\n",
      "Epoch 9/10\n",
      "16/16 [==============================] - 10s 613ms/step - loss: 7.1555e-07 - accuracy: 1.0000 - val_loss: 4.0978e-07 - val_accuracy: 1.0000\n",
      "Epoch 10/10\n",
      "16/16 [==============================] - 10s 615ms/step - loss: 8.2784e-07 - accuracy: 1.0000 - val_loss: 4.1164e-07 - val_accuracy: 1.0000\n"
     ]
    }
   ],
   "source": [
    "history = classifier.fit(\n",
    "    x_train, \n",
    "    encoded_y_train, \n",
    "    epochs=10, \n",
    "    batch_size=32, \n",
    "    shuffle=True, \n",
    "    validation_data=(x_val, encoded_y_val)\n",
    ")\n"
   ]
  },
  {
   "cell_type": "markdown",
   "metadata": {},
   "source": [
    "The achieved acucracy for training data equals 100% and the loss is very small"
   ]
  },
  {
   "cell_type": "code",
   "execution_count": 32,
   "metadata": {},
   "outputs": [
    {
     "name": "stdout",
     "output_type": "stream",
     "text": [
      "5/5 [==============================] - 1s 188ms/step - loss: 3.9799e-05 - accuracy: 1.0000\n",
      "\n",
      "['loss', 'accuracy']\n",
      "Results: [3.979857137892395e-05, 1.0]\n"
     ]
    }
   ],
   "source": [
    "results = classifier.evaluate(x_test, encoded_y_test)\n",
    "print()\n",
    "print(classifier.metrics_names)\n",
    "print(\"Results:\", results)"
   ]
  },
  {
   "cell_type": "markdown",
   "metadata": {},
   "source": [
    "For validation data the results are also very good - the accuracy equals 100% and the loss is very small also"
   ]
  },
  {
   "cell_type": "code",
   "execution_count": 33,
   "metadata": {},
   "outputs": [
    {
     "data": {
      "text/plain": [
       "dict_keys(['loss', 'accuracy', 'val_loss', 'val_accuracy'])"
      ]
     },
     "execution_count": 33,
     "metadata": {},
     "output_type": "execute_result"
    }
   ],
   "source": [
    "history.history.keys()"
   ]
  },
  {
   "cell_type": "code",
   "execution_count": 34,
   "metadata": {},
   "outputs": [],
   "source": [
    "# plot \n",
    "import matplotlib.pyplot as plt\n",
    "from sklearn.metrics import classification_report, confusion_matrix\n",
    "\n",
    "\n",
    "#display the loss and accuracy curves\n",
    "def show_plots(history):\n",
    "    loss = history.history['loss']\n",
    "    val_loss = history.history['val_loss']\n",
    "\n",
    "    epochs = range(1, len(loss) + 1)\n",
    "\n",
    "    plt.plot(epochs, loss, 'bo', label='Training loss')\n",
    "    plt.plot(epochs, val_loss, 'b', label='Validation loss')\n",
    "    plt.title('Training and validation loss')\n",
    "    plt.xlabel('Epochs')\n",
    "    plt.ylabel('Loss')\n",
    "    plt.legend()\n",
    "    plt.show()\n",
    "\n",
    "    plt.clf()   # clear figure\n",
    "\n",
    "    acc = history.history['accuracy']\n",
    "    val_acc = history.history['val_accuracy']\n",
    "\n",
    "    plt.plot(epochs, acc, 'bo', label='Training acc')\n",
    "    plt.plot(epochs, val_acc, 'b', label='Validation acc')\n",
    "    plt.title('Training and validation accuracy')\n",
    "    plt.xlabel('Epochs')\n",
    "    plt.ylabel('Accuracy')\n",
    "    plt.legend()\n",
    "\n",
    "    plt.show()\n",
    "\n",
    "    \n",
    "#predict\n",
    "def predict_and_show_reports(x_test, test_labels):\n",
    "    predictions = classifier.predict(x_test)\n",
    "    cm = confusion_matrix(test_labels, np.argmax(predictions, axis=1))\n",
    "    print(\"Confusion matrix:\\n\", cm)\n",
    "    print(classification_report(test_labels, np.argmax(predictions, axis=1)))\n",
    "    "
   ]
  },
  {
   "cell_type": "code",
   "execution_count": 35,
   "metadata": {},
   "outputs": [
    {
     "data": {
      "image/png": "[encoded data removed]",
      "text/plain": [
       "<Figure size 432x288 with 1 Axes>"
      ]
     },
     "metadata": {
      "needs_background": "light"
     },
     "output_type": "display_data"
    },
    {
     "data": {
      "image/png": "[encoded data removed]",
      "text/plain": [
       "<Figure size 432x288 with 1 Axes>"
      ]
     },
     "metadata": {
      "needs_background": "light"
     },
     "output_type": "display_data"
    },
    {
     "name": "stdout",
     "output_type": "stream",
     "text": [
      "Confusion matrix:\n",
      " [[37  0  0  0]\n",
      " [ 0 43  0  0]\n",
      " [ 0  0 35  0]\n",
      " [ 0  0  0 45]]\n",
      "              precision    recall  f1-score   support\n",
      "\n",
      "           0       1.00      1.00      1.00        37\n",
      "           1       1.00      1.00      1.00        43\n",
      "           2       1.00      1.00      1.00        35\n",
      "           3       1.00      1.00      1.00        45\n",
      "\n",
      "    accuracy                           1.00       160\n",
      "   macro avg       1.00      1.00      1.00       160\n",
      "weighted avg       1.00      1.00      1.00       160\n",
      "\n"
     ]
    }
   ],
   "source": [
    "show_plots(history)\n",
    "predict_and_show_reports(x_test, y_test)"
   ]
  },
  {
   "cell_type": "markdown",
   "metadata": {},
   "source": [
    "In the diagrams above there we the overfitting can occur. Let's check the results once again with different parameters"
   ]
  },
  {
   "cell_type": "code",
   "execution_count": 49,
   "metadata": {},
   "outputs": [],
   "source": [
    "classifier = Sequential() \n",
    "classifier.add(Conv2D(16, kernel_size=(5, 5), strides=(1, 1), input_shape=(image_size, image_size, 1), activation='relu'))\n",
    "classifier.add(MaxPooling2D(pool_size=(2, 2)))\n",
    "classifier.add(Conv2D(8, kernel_size=(5, 5), activation='relu'))\n",
    "classifier.add(MaxPooling2D(pool_size=(2, 2)))\n",
    "classifier.add(Flatten())\n",
    "classifier.add(Dense(4, activation='relu'))\n",
    "classifier.add(Dense(class_number, activation='softmax'))\n",
    " \n",
    "classifier.compile(loss='categorical_crossentropy', optimizer = 'adam', metrics = [\"accuracy\"])\n"
   ]
  },
  {
   "cell_type": "code",
   "execution_count": 50,
   "metadata": {},
   "outputs": [
    {
     "name": "stdout",
     "output_type": "stream",
     "text": [
      "Model: \"sequential_4\"\n",
      "_________________________________________________________________\n",
      "Layer (type)                 Output Shape              Param #   \n",
      "=================================================================\n",
      "conv2d_8 (Conv2D)            (None, 92, 92, 16)        416       \n",
      "_________________________________________________________________\n",
      "max_pooling2d_8 (MaxPooling2 (None, 46, 46, 16)        0         \n",
      "_________________________________________________________________\n",
      "conv2d_9 (Conv2D)            (None, 42, 42, 8)         3208      \n",
      "_________________________________________________________________\n",
      "max_pooling2d_9 (MaxPooling2 (None, 21, 21, 8)         0         \n",
      "_________________________________________________________________\n",
      "flatten_4 (Flatten)          (None, 3528)              0         \n",
      "_________________________________________________________________\n",
      "dense_8 (Dense)              (None, 4)                 14116     \n",
      "_________________________________________________________________\n",
      "dense_9 (Dense)              (None, 4)                 20        \n",
      "=================================================================\n",
      "Total params: 17,760\n",
      "Trainable params: 17,760\n",
      "Non-trainable params: 0\n",
      "_________________________________________________________________\n"
     ]
    }
   ],
   "source": [
    "#model summary\n",
    "classifier.summary()"
   ]
  },
  {
   "cell_type": "code",
   "execution_count": 51,
   "metadata": {},
   "outputs": [
    {
     "name": "stdout",
     "output_type": "stream",
     "text": [
      "Epoch 1/7\n",
      "16/16 [==============================] - 6s 296ms/step - loss: 1.3034 - accuracy: 0.4487 - val_loss: 0.7395 - val_accuracy: 0.5703\n",
      "Epoch 2/7\n",
      "16/16 [==============================] - 4s 282ms/step - loss: 0.7160 - accuracy: 0.6528 - val_loss: 0.3859 - val_accuracy: 0.8047\n",
      "Epoch 3/7\n",
      "16/16 [==============================] - 4s 270ms/step - loss: 0.3996 - accuracy: 0.7849 - val_loss: 0.2054 - val_accuracy: 0.9688\n",
      "Epoch 4/7\n",
      "16/16 [==============================] - 4s 268ms/step - loss: 0.1978 - accuracy: 0.9694 - val_loss: 0.0588 - val_accuracy: 0.9922\n",
      "Epoch 5/7\n",
      "16/16 [==============================] - 4s 270ms/step - loss: 0.0466 - accuracy: 0.9937 - val_loss: 0.0082 - val_accuracy: 1.0000\n",
      "Epoch 6/7\n",
      "16/16 [==============================] - 4s 279ms/step - loss: 0.0065 - accuracy: 1.0000 - val_loss: 0.0041 - val_accuracy: 1.0000\n",
      "Epoch 7/7\n",
      "16/16 [==============================] - 4s 277ms/step - loss: 0.0018 - accuracy: 1.0000 - val_loss: 0.0017 - val_accuracy: 1.0000\n"
     ]
    }
   ],
   "source": [
    "history = classifier.fit(\n",
    "    x_train, \n",
    "    encoded_y_train, \n",
    "    epochs=7, \n",
    "    batch_size=32, \n",
    "    shuffle=True, \n",
    "    validation_data=(x_val, encoded_y_val)\n",
    ")"
   ]
  },
  {
   "cell_type": "code",
   "execution_count": 52,
   "metadata": {},
   "outputs": [
    {
     "name": "stdout",
     "output_type": "stream",
     "text": [
      "5/5 [==============================] - 1s 76ms/step - loss: 0.0024 - accuracy: 1.0000\n",
      "\n",
      "['loss', 'accuracy']\n",
      "Results: [0.0024451385252177715, 1.0]\n"
     ]
    }
   ],
   "source": [
    "results = classifier.evaluate(x_test, encoded_y_test)\n",
    "print()\n",
    "print(classifier.metrics_names)\n",
    "print(\"Results:\", results)"
   ]
  },
  {
   "cell_type": "code",
   "execution_count": 53,
   "metadata": {},
   "outputs": [
    {
     "data": {
      "image/png": "[encoded data removed]",
      "text/plain": [
       "<Figure size 432x288 with 1 Axes>"
      ]
     },
     "metadata": {
      "needs_background": "light"
     },
     "output_type": "display_data"
    },
    {
     "data": {
      "image/png": "[encoded data removed]",
      "text/plain": [
       "<Figure size 432x288 with 1 Axes>"
      ]
     },
     "metadata": {
      "needs_background": "light"
     },
     "output_type": "display_data"
    },
    {
     "name": "stdout",
     "output_type": "stream",
     "text": [
      "Confusion matrix:\n",
      " [[37  0  0  0]\n",
      " [ 0 43  0  0]\n",
      " [ 0  0 35  0]\n",
      " [ 0  0  0 45]]\n",
      "              precision    recall  f1-score   support\n",
      "\n",
      "           0       1.00      1.00      1.00        37\n",
      "           1       1.00      1.00      1.00        43\n",
      "           2       1.00      1.00      1.00        35\n",
      "           3       1.00      1.00      1.00        45\n",
      "\n",
      "    accuracy                           1.00       160\n",
      "   macro avg       1.00      1.00      1.00       160\n",
      "weighted avg       1.00      1.00      1.00       160\n",
      "\n"
     ]
    }
   ],
   "source": [
    "show_plots(history)\n",
    "predict_and_show_reports(x_test, y_test)"
   ]
  },
  {
   "cell_type": "markdown",
   "metadata": {},
   "source": [
    "The neural network is now more optimized and ready to make predictions"
   ]
  },
  {
   "cell_type": "markdown",
   "metadata": {},
   "source": [
    "Check the result of prediction for one test picture:"
   ]
  },
  {
   "cell_type": "code",
   "execution_count": 54,
   "metadata": {},
   "outputs": [],
   "source": [
    "pred_probabilities = classifier.predict(x_test)"
   ]
  },
  {
   "cell_type": "code",
   "execution_count": 58,
   "metadata": {},
   "outputs": [],
   "source": [
    "import random\n",
    "\n",
    "random_num = random.randint(0, len(x_test))\n",
    "random_predicted = pred_probabilities[random_num]\n"
   ]
  },
  {
   "cell_type": "code",
   "execution_count": null,
   "metadata": {},
   "outputs": [],
   "source": [
    "pred_labels = np.argmax(random_predicted, -1)\n",
    "print(pred_labels)\n",
    "print(persons[y_test[random_num]])\n",
    "x_test_3_dim = np.squeeze(x_test)\n",
    "showOpencvImage(x_test_3_dim[random_num])"
   ]
  },
  {
   "cell_type": "code",
   "execution_count": 60,
   "metadata": {},
   "outputs": [],
   "source": [
    "#save the trained CNN model\n",
    "classifier.save('face_recognition_model.h5')"
   ]
  },
  {
   "cell_type": "markdown",
   "metadata": {},
   "source": [
    "A new photo was classified properly"
   ]
  },
  {
   "cell_type": "code",
   "execution_count": null,
   "metadata": {},
   "outputs": [],
   "source": []
  }
 ],
 "metadata": {
  "kernelspec": {
   "display_name": "Python 3",
   "language": "python",
   "name": "python3"
  },
  "language_info": {
   "codemirror_mode": {
    "name": "ipython",
    "version": 3
   },
   "file_extension": ".py",
   "mimetype": "text/x-python",
   "name": "python",
   "nbconvert_exporter": "python",
   "pygments_lexer": "ipython3",
   "version": "3.8.5"
  }
 },
 "nbformat": 4,
 "nbformat_minor": 4
}
