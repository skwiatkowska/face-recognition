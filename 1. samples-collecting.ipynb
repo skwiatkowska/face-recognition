{
 "cells": [
  {
   "cell_type": "markdown",
   "metadata": {},
   "source": [
    "## Collecting own images from camera ###"
   ]
  },
  {
   "cell_type": "code",
   "execution_count": 19,
   "metadata": {},
   "outputs": [],
   "source": [
    "import cv2 #opencv\n",
    "import os\n",
    "import time\n",
    "\n",
    "haarcascade_absolute_path = os.path.abspath(\"haarcascade/haarcascade_frontalface_default.xml\")\n",
    "#load Haar Cascade Classifiers to detect a face in the picture\n",
    "face_cascade = cv2.CascadeClassifier(haarcascade_absolute_path) \n",
    "\n",
    "camera = cv2.VideoCapture(0) #init camera\n",
    "\n",
    "train_dir = 'data' #the main folder containing images\n",
    "\n",
    "\n",
    "def current_milli_time(): #get current time in case not name provided\n",
    "    return round(time.time() * 1000)\n",
    "\n",
    "\n",
    "def extract_face(image):\n",
    "    detected_face = face_cascade.detectMultiScale(image, 1.3, 5)\n",
    "    \n",
    "    if len(detected_face) == 0: #means no face detected\n",
    "        return None \n",
    "    \n",
    "    for x,y,w,h in detected_face: #x,y,width,height\n",
    "        offset = 20 #offset for cutting a face from image\n",
    "        cropped = image[y-offset : y+h+offset, x-offset : x+w+offset] #cut the image to extract only the face\n",
    "\n",
    "    return cropped\n",
    "\n",
    "\n",
    "def collect_images(samples = 200):\n",
    "    name = input('Type your name or press Enter: ')\n",
    "    dirname = name if name else current_milli_time()       \n",
    "        \n",
    "    directory = train_dir + '/' + str(dirname)\n",
    "    if not os.path.exists(directory): #create a directory if not exists\n",
    "        os.makedirs(directory)\n",
    "    \n",
    "    while samples > 0:\n",
    "        ret, frame = camera.read() #fetch a frame from camera\n",
    "        extracted_face = extract_face(frame)\n",
    "        if extracted_face is not None:\n",
    "            filename = directory + '/' + str(samples) + '.jpg'\n",
    "            \n",
    "            cv2.imwrite(filename, extracted_face) #save an image\n",
    "            print(\"Face found\")\n",
    "\n",
    "        else:\n",
    "            print(\"Face not found\")\n",
    "            pass\n",
    "\n",
    "        samples -= 1\n",
    "        \n",
    "        if cv2.waitKey(1) == 13: #if Enter key pressed\n",
    "            break\n",
    "\n",
    "    camera.release()\n",
    "    cv2.destroyAllWindows()      \n",
    "    print(\"Images successfully collected\")"
   ]
  },
  {
   "cell_type": "code",
   "execution_count": null,
   "metadata": {},
   "outputs": [],
   "source": [
    "collect_images()"
   ]
  }
 ],
 "metadata": {
  "kernelspec": {
   "display_name": "Python 3",
   "language": "python",
   "name": "python3"
  },
  "language_info": {
   "codemirror_mode": {
    "name": "ipython",
    "version": 3
   },
   "file_extension": ".py",
   "mimetype": "text/x-python",
   "name": "python",
   "nbconvert_exporter": "python",
   "pygments_lexer": "ipython3",
   "version": "3.8.5"
  }
 },
 "nbformat": 4,
 "nbformat_minor": 4
}
